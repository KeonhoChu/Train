{
  "nbformat": 4,
  "nbformat_minor": 0,
  "metadata": {
    "colab": {
      "provenance": [],
      "mount_file_id": "1AnI9TkE-pVHSCsmwH-banrcy-EgLFn_r",
      "authorship_tag": "ABX9TyOPpO+tcWDL0q9wvdQTe7Zp",
      "include_colab_link": true
    },
    "kernelspec": {
      "name": "python3",
      "display_name": "Python 3"
    },
    "language_info": {
      "name": "python"
    }
  },
  "cells": [
    {
      "cell_type": "markdown",
      "metadata": {
        "id": "view-in-github",
        "colab_type": "text"
      },
      "source": [
        "<a href=\"https://colab.research.google.com/github/KeonhoChu/Train/blob/main/CNN_Cats_and_Dogs.ipynb\" target=\"_parent\"><img src=\"https://colab.research.google.com/assets/colab-badge.svg\" alt=\"Open In Colab\"/></a>"
      ]
    },
    {
      "cell_type": "code",
      "execution_count": null,
      "metadata": {
        "colab": {
          "base_uri": "https://localhost:8080/"
        },
        "id": "wghIpgyrPxRQ",
        "outputId": "86a2a28f-ef54-451c-b9a7-64e9a23d9a61"
      },
      "outputs": [
        {
          "output_type": "stream",
          "name": "stdout",
          "text": [
            "Looking in indexes: https://pypi.org/simple, https://us-python.pkg.dev/colab-wheels/public/simple/\n",
            "Requirement already satisfied: kaggle in /usr/local/lib/python3.10/dist-packages (1.5.13)\n",
            "Requirement already satisfied: six>=1.10 in /usr/local/lib/python3.10/dist-packages (from kaggle) (1.16.0)\n",
            "Requirement already satisfied: certifi in /usr/local/lib/python3.10/dist-packages (from kaggle) (2022.12.7)\n",
            "Requirement already satisfied: python-dateutil in /usr/local/lib/python3.10/dist-packages (from kaggle) (2.8.2)\n",
            "Requirement already satisfied: requests in /usr/local/lib/python3.10/dist-packages (from kaggle) (2.27.1)\n",
            "Requirement already satisfied: tqdm in /usr/local/lib/python3.10/dist-packages (from kaggle) (4.65.0)\n",
            "Requirement already satisfied: python-slugify in /usr/local/lib/python3.10/dist-packages (from kaggle) (8.0.1)\n",
            "Requirement already satisfied: urllib3 in /usr/local/lib/python3.10/dist-packages (from kaggle) (1.26.15)\n",
            "Requirement already satisfied: text-unidecode>=1.3 in /usr/local/lib/python3.10/dist-packages (from python-slugify->kaggle) (1.3)\n",
            "Requirement already satisfied: charset-normalizer~=2.0.0 in /usr/local/lib/python3.10/dist-packages (from requests->kaggle) (2.0.12)\n",
            "Requirement already satisfied: idna<4,>=2.5 in /usr/local/lib/python3.10/dist-packages (from requests->kaggle) (3.4)\n"
          ]
        }
      ],
      "source": [
        "0\n",
        "!pip install kaggle"
      ]
    },
    {
      "cell_type": "code",
      "source": [
        "\n",
        "ls -1ha /content/drive/MyDrive/kaggle.json #현재 존재하나요?"
      ],
      "metadata": {
        "colab": {
          "base_uri": "https://localhost:8080/"
        },
        "id": "_GQ7qgAjQkx5",
        "outputId": "8581eb47-1114-4196-f068-40f8b3330dfa"
      },
      "execution_count": null,
      "outputs": [
        {
          "output_type": "stream",
          "name": "stdout",
          "text": [
            "ls: cannot access '/content/drive/MyDrive/kaggle.json': No such file or directory\n"
          ]
        }
      ]
    },
    {
      "cell_type": "code",
      "source": [
        "!mkdir -p ~/.kaggle #make dir\n",
        "!cp /content/drive/MyDrive/kaggle.json ~/.kaggle/ #move kaggle.json->~/.kaggle (현재 경로에 있는 파일 ./)\n",
        "#./.kaggle .폴더명 : 숨김폴더.\n",
        "# Permission Warning이 발생하지 않도록 해줍니다.\n",
        "!chmod 600 ~/.kaggle/kaggle.json # r(read):4,write(w):2,exe(x):1\n",
        "# 내가 참가한 대회 리스트 확인\n",
        "!kaggle competitions list"
      ],
      "metadata": {
        "colab": {
          "base_uri": "https://localhost:8080/"
        },
        "id": "oMwHEq2jQrmj",
        "outputId": "124312cb-bf31-4578-dee6-2bbcaae4f4d6"
      },
      "execution_count": null,
      "outputs": [
        {
          "output_type": "stream",
          "name": "stdout",
          "text": [
            "cp: cannot stat '/content/drive/MyDrive/kaggle.json': No such file or directory\n",
            "401 - Unauthorized\n"
          ]
        }
      ]
    },
    {
      "cell_type": "code",
      "source": [
        "!kaggle competitions download -c dogs-vs-cats"
      ],
      "metadata": {
        "colab": {
          "base_uri": "https://localhost:8080/"
        },
        "id": "M15m85zWQtKK",
        "outputId": "155ece5b-a3a4-4143-ea4b-ec15d493d8ec"
      },
      "execution_count": null,
      "outputs": [
        {
          "output_type": "stream",
          "name": "stdout",
          "text": [
            "401 - Unauthorized\n"
          ]
        }
      ]
    },
    {
      "cell_type": "code",
      "source": [
        "!chmod /content/dogs-vs-cats.zip"
      ],
      "metadata": {
        "colab": {
          "base_uri": "https://localhost:8080/"
        },
        "id": "LuDOj8EtXJX1",
        "outputId": "bf880fcd-1cc8-4be2-b681-167cbb764f31"
      },
      "execution_count": null,
      "outputs": [
        {
          "output_type": "stream",
          "name": "stdout",
          "text": [
            "chmod: missing operand after ‘/content/dogs-vs-cats.zip’\n",
            "Try 'chmod --help' for more information.\n"
          ]
        }
      ]
    },
    {
      "cell_type": "code",
      "source": [
        "!unzip -d /content/dogs-vs-cats.zip"
      ],
      "metadata": {
        "colab": {
          "base_uri": "https://localhost:8080/"
        },
        "id": "yrwLnv97W3Hx",
        "outputId": "0624a659-7d39-4ccb-9c0e-694e7baf4e24"
      },
      "execution_count": null,
      "outputs": [
        {
          "output_type": "stream",
          "name": "stdout",
          "text": [
            "UnZip 6.00 of 20 April 2009, by Debian. Original by Info-ZIP.\n",
            "\n",
            "Usage: unzip [-Z] [-opts[modifiers]] file[.zip] [list] [-x xlist] [-d exdir]\n",
            "  Default action is to extract files in list, except those in xlist, to exdir;\n",
            "  file[.zip] may be a wildcard.  -Z => ZipInfo mode (\"unzip -Z\" for usage).\n",
            "\n",
            "  -p  extract files to pipe, no messages     -l  list files (short format)\n",
            "  -f  freshen existing files, create none    -t  test compressed archive data\n",
            "  -u  update files, create if necessary      -z  display archive comment only\n",
            "  -v  list verbosely/show version info       -T  timestamp archive to latest\n",
            "  -x  exclude files that follow (in xlist)   -d  extract files into exdir\n",
            "modifiers:\n",
            "  -n  never overwrite existing files         -q  quiet mode (-qq => quieter)\n",
            "  -o  overwrite files WITHOUT prompting      -a  auto-convert any text files\n",
            "  -j  junk paths (do not make directories)   -aa treat ALL files as text\n",
            "  -U  use escapes for all non-ASCII Unicode  -UU ignore any Unicode fields\n",
            "  -C  match filenames case-insensitively     -L  make (some) names lowercase\n",
            "  -X  restore UID/GID info                   -V  retain VMS version numbers\n",
            "  -K  keep setuid/setgid/tacky permissions   -M  pipe through \"more\" pager\n",
            "  -O CHARSET  specify a character encoding for DOS, Windows and OS/2 archives\n",
            "  -I CHARSET  specify a character encoding for UNIX and other archives\n",
            "\n",
            "See \"unzip -hh\" or unzip.txt for more help.  Examples:\n",
            "  unzip data1 -x joe   => extract all files except joe from zipfile data1.zip\n",
            "  unzip -p foo | more  => send contents of foo.zip via pipe into program more\n",
            "  unzip -fo foo ReadMe => quietly replace existing ReadMe if archive file newer\n"
          ]
        }
      ]
    },
    {
      "cell_type": "code",
      "source": [
        "!unzip /content/drive/MyDrive/dogs-vs-cats.zip"
      ],
      "metadata": {
        "colab": {
          "base_uri": "https://localhost:8080/"
        },
        "id": "9M0sMnA9Qwjq",
        "outputId": "9bdf9a5a-ef30-4141-b00c-b590e89a2258"
      },
      "execution_count": null,
      "outputs": [
        {
          "output_type": "stream",
          "name": "stdout",
          "text": [
            "Archive:  /content/drive/MyDrive/dogs-vs-cats.zip\n",
            "  inflating: sampleSubmission.csv    \n",
            "  inflating: test1.zip               \n",
            "  inflating: train.zip               \n"
          ]
        }
      ]
    },
    {
      "cell_type": "code",
      "source": [
        "!unzip /content/train.zip"
      ],
      "metadata": {
        "id": "y336ltz7Qxgm"
      },
      "execution_count": null,
      "outputs": []
    },
    {
      "cell_type": "code",
      "source": [
        "!unzip /content/test1.zip"
      ],
      "metadata": {
        "id": "mMJIKBzoWNnb"
      },
      "execution_count": null,
      "outputs": []
    },
    {
      "cell_type": "code",
      "source": [
        "import pandas as pd\n",
        "import os\n",
        "filenames = os.listdir(\"/content/train\")\n",
        "categories = []\n",
        "for filename in filenames:\n",
        "    category = filename.split('.')[0]\n",
        "    if category == 'dog':\n",
        "        categories.append(1)\n",
        "    else:\n",
        "        categories.append(0)\n",
        "\n",
        "df = pd.DataFrame({\n",
        "    'filename': filenames,\n",
        "    'category': categories\n",
        "})\n",
        "df.head()"
      ],
      "metadata": {
        "colab": {
          "base_uri": "https://localhost:8080/",
          "height": 206
        },
        "id": "S8s4wilYaIgO",
        "outputId": "129810b7-d524-42ae-998c-ebf3efb6a636"
      },
      "execution_count": null,
      "outputs": [
        {
          "output_type": "execute_result",
          "data": {
            "text/plain": [
              "       filename  category\n",
              "0  dog.3070.jpg         1\n",
              "1  dog.9423.jpg         1\n",
              "2  cat.7224.jpg         0\n",
              "3  cat.1473.jpg         0\n",
              "4  cat.2898.jpg         0"
            ],
            "text/html": [
              "\n",
              "  <div id=\"df-6c2e36ac-921f-4a95-b0bb-f144418280af\">\n",
              "    <div class=\"colab-df-container\">\n",
              "      <div>\n",
              "<style scoped>\n",
              "    .dataframe tbody tr th:only-of-type {\n",
              "        vertical-align: middle;\n",
              "    }\n",
              "\n",
              "    .dataframe tbody tr th {\n",
              "        vertical-align: top;\n",
              "    }\n",
              "\n",
              "    .dataframe thead th {\n",
              "        text-align: right;\n",
              "    }\n",
              "</style>\n",
              "<table border=\"1\" class=\"dataframe\">\n",
              "  <thead>\n",
              "    <tr style=\"text-align: right;\">\n",
              "      <th></th>\n",
              "      <th>filename</th>\n",
              "      <th>category</th>\n",
              "    </tr>\n",
              "  </thead>\n",
              "  <tbody>\n",
              "    <tr>\n",
              "      <th>0</th>\n",
              "      <td>dog.3070.jpg</td>\n",
              "      <td>1</td>\n",
              "    </tr>\n",
              "    <tr>\n",
              "      <th>1</th>\n",
              "      <td>dog.9423.jpg</td>\n",
              "      <td>1</td>\n",
              "    </tr>\n",
              "    <tr>\n",
              "      <th>2</th>\n",
              "      <td>cat.7224.jpg</td>\n",
              "      <td>0</td>\n",
              "    </tr>\n",
              "    <tr>\n",
              "      <th>3</th>\n",
              "      <td>cat.1473.jpg</td>\n",
              "      <td>0</td>\n",
              "    </tr>\n",
              "    <tr>\n",
              "      <th>4</th>\n",
              "      <td>cat.2898.jpg</td>\n",
              "      <td>0</td>\n",
              "    </tr>\n",
              "  </tbody>\n",
              "</table>\n",
              "</div>\n",
              "      <button class=\"colab-df-convert\" onclick=\"convertToInteractive('df-6c2e36ac-921f-4a95-b0bb-f144418280af')\"\n",
              "              title=\"Convert this dataframe to an interactive table.\"\n",
              "              style=\"display:none;\">\n",
              "        \n",
              "  <svg xmlns=\"http://www.w3.org/2000/svg\" height=\"24px\"viewBox=\"0 0 24 24\"\n",
              "       width=\"24px\">\n",
              "    <path d=\"M0 0h24v24H0V0z\" fill=\"none\"/>\n",
              "    <path d=\"M18.56 5.44l.94 2.06.94-2.06 2.06-.94-2.06-.94-.94-2.06-.94 2.06-2.06.94zm-11 1L8.5 8.5l.94-2.06 2.06-.94-2.06-.94L8.5 2.5l-.94 2.06-2.06.94zm10 10l.94 2.06.94-2.06 2.06-.94-2.06-.94-.94-2.06-.94 2.06-2.06.94z\"/><path d=\"M17.41 7.96l-1.37-1.37c-.4-.4-.92-.59-1.43-.59-.52 0-1.04.2-1.43.59L10.3 9.45l-7.72 7.72c-.78.78-.78 2.05 0 2.83L4 21.41c.39.39.9.59 1.41.59.51 0 1.02-.2 1.41-.59l7.78-7.78 2.81-2.81c.8-.78.8-2.07 0-2.86zM5.41 20L4 18.59l7.72-7.72 1.47 1.35L5.41 20z\"/>\n",
              "  </svg>\n",
              "      </button>\n",
              "      \n",
              "  <style>\n",
              "    .colab-df-container {\n",
              "      display:flex;\n",
              "      flex-wrap:wrap;\n",
              "      gap: 12px;\n",
              "    }\n",
              "\n",
              "    .colab-df-convert {\n",
              "      background-color: #E8F0FE;\n",
              "      border: none;\n",
              "      border-radius: 50%;\n",
              "      cursor: pointer;\n",
              "      display: none;\n",
              "      fill: #1967D2;\n",
              "      height: 32px;\n",
              "      padding: 0 0 0 0;\n",
              "      width: 32px;\n",
              "    }\n",
              "\n",
              "    .colab-df-convert:hover {\n",
              "      background-color: #E2EBFA;\n",
              "      box-shadow: 0px 1px 2px rgba(60, 64, 67, 0.3), 0px 1px 3px 1px rgba(60, 64, 67, 0.15);\n",
              "      fill: #174EA6;\n",
              "    }\n",
              "\n",
              "    [theme=dark] .colab-df-convert {\n",
              "      background-color: #3B4455;\n",
              "      fill: #D2E3FC;\n",
              "    }\n",
              "\n",
              "    [theme=dark] .colab-df-convert:hover {\n",
              "      background-color: #434B5C;\n",
              "      box-shadow: 0px 1px 3px 1px rgba(0, 0, 0, 0.15);\n",
              "      filter: drop-shadow(0px 1px 2px rgba(0, 0, 0, 0.3));\n",
              "      fill: #FFFFFF;\n",
              "    }\n",
              "  </style>\n",
              "\n",
              "      <script>\n",
              "        const buttonEl =\n",
              "          document.querySelector('#df-6c2e36ac-921f-4a95-b0bb-f144418280af button.colab-df-convert');\n",
              "        buttonEl.style.display =\n",
              "          google.colab.kernel.accessAllowed ? 'block' : 'none';\n",
              "\n",
              "        async function convertToInteractive(key) {\n",
              "          const element = document.querySelector('#df-6c2e36ac-921f-4a95-b0bb-f144418280af');\n",
              "          const dataTable =\n",
              "            await google.colab.kernel.invokeFunction('convertToInteractive',\n",
              "                                                     [key], {});\n",
              "          if (!dataTable) return;\n",
              "\n",
              "          const docLinkHtml = 'Like what you see? Visit the ' +\n",
              "            '<a target=\"_blank\" href=https://colab.research.google.com/notebooks/data_table.ipynb>data table notebook</a>'\n",
              "            + ' to learn more about interactive tables.';\n",
              "          element.innerHTML = '';\n",
              "          dataTable['output_type'] = 'display_data';\n",
              "          await google.colab.output.renderOutput(dataTable, element);\n",
              "          const docLink = document.createElement('div');\n",
              "          docLink.innerHTML = docLinkHtml;\n",
              "          element.appendChild(docLink);\n",
              "        }\n",
              "      </script>\n",
              "    </div>\n",
              "  </div>\n",
              "  "
            ]
          },
          "metadata": {},
          "execution_count": 39
        }
      ]
    },
    {
      "cell_type": "code",
      "source": [
        "df.shape"
      ],
      "metadata": {
        "colab": {
          "base_uri": "https://localhost:8080/"
        },
        "id": "FunPcg3iaZSM",
        "outputId": "79b0d4c7-60c2-4981-f5e2-bbbe60be6172"
      },
      "execution_count": null,
      "outputs": [
        {
          "output_type": "execute_result",
          "data": {
            "text/plain": [
              "(25000, 2)"
            ]
          },
          "metadata": {},
          "execution_count": 40
        }
      ]
    },
    {
      "cell_type": "code",
      "source": [
        "df['category'].value_counts()"
      ],
      "metadata": {
        "colab": {
          "base_uri": "https://localhost:8080/"
        },
        "id": "U2dL9zt2bm2P",
        "outputId": "7fdc8889-cb9c-462c-9b69-aa3624c53042"
      },
      "execution_count": null,
      "outputs": [
        {
          "output_type": "execute_result",
          "data": {
            "text/plain": [
              "1    12500\n",
              "0    12500\n",
              "Name: category, dtype: int64"
            ]
          },
          "metadata": {},
          "execution_count": 41
        }
      ]
    },
    {
      "cell_type": "code",
      "source": [
        "df['category'].value_counts().plot.bar()"
      ],
      "metadata": {
        "colab": {
          "base_uri": "https://localhost:8080/",
          "height": 444
        },
        "id": "BDBylwZMboeE",
        "outputId": "494de438-83c8-4a67-bb79-f0f599d877f8"
      },
      "execution_count": null,
      "outputs": [
        {
          "output_type": "execute_result",
          "data": {
            "text/plain": [
              "<Axes: >"
            ]
          },
          "metadata": {},
          "execution_count": 42
        },
        {
          "output_type": "display_data",
          "data": {
            "text/plain": [
              "<Figure size 640x480 with 1 Axes>"
            ],
            "image/png": "[encoded data removed]"
          },
          "metadata": {}
        }
      ]
    },
    {
      "cell_type": "code",
      "source": [
        "from tensorflow.keras.utils import load_img\n",
        "import random\n",
        "import matplotlib.pyplot as plt\n",
        "sample = random.choice(filenames)\n",
        "image = load_img(\"/content/train/\"+sample)\n",
        "plt.imshow(image)"
      ],
      "metadata": {
        "colab": {
          "base_uri": "https://localhost:8080/",
          "height": 454
        },
        "id": "CVReLQq3bp5P",
        "outputId": "7da6c452-a563-46f3-c84f-aec34fa4f75d"
      },
      "execution_count": null,
      "outputs": [
        {
          "output_type": "execute_result",
          "data": {
            "text/plain": [
              "<matplotlib.image.AxesImage at 0x7f7cb12a79d0>"
            ]
          },
          "metadata": {},
          "execution_count": 43
        },
        {
          "output_type": "display_data",
          "data": {
            "text/plain": [
              "<Figure size 640x480 with 1 Axes>"
            ],
            "image/png": "[encoded data removed]"
          },
          "metadata": {}
        }
      ]
    },
    {
      "cell_type": "code",
      "source": [
        "#훈련,검증,테스트 폴더로 이미지 복사하기.\n",
        "import os,shutil\n",
        "#os : operation system / 운영체제와의 상호작용을 돕는 다양한 기능을 제공.\n",
        "#참고 : https://docs.python.org/ko/3/library/os.html?highlight=os#module-os\n",
        "#shutil : 파일,복사 etc\n",
        "#참고 : https://docs.python.org/ko/3/library/shutil.html\n",
        "\n",
        "\n",
        "original_dataset_dir = '/content/train' # 원본 데이터셋을 압축 해제한 디렉터리 경로\n",
        "\n",
        "base_dir = '/content/cats_and_dogs_small' #소규모 데이터셋을 저장할 디렉터리.\n",
        "os.mkdir(base_dir) #making dictory\n",
        ""
      ],
      "metadata": {
        "id": "W0kOW4v1brV0"
      },
      "execution_count": null,
      "outputs": []
    },
    {
      "cell_type": "code",
      "source": [
        "train_dir = os.path.join(base_dir,'train') # /content/cats_and_dogs_small/train\n",
        "os.mkdir(train_dir)\n",
        "validation_dir = os.path.join(base_dir,'validation') #/content/cats_and_dogs_small/validation\n",
        "os.mkdir(validation_dir)\n",
        "test_dir = os.path.join(base_dir,'test') #/content/cats_and_dogs_small/test\n",
        "os.mkdir(test_dir)\n",
        "#훈련,검증, 테스트 분할을 위한 디렉토리."
      ],
      "metadata": {
        "id": "HiWyMmjXbxgh"
      },
      "execution_count": null,
      "outputs": []
    },
    {
      "cell_type": "code",
      "source": [
        "train_cats_dir = os.path.join(train_dir,'cats')\n",
        "os.mkdir(train_cats_dir)\n",
        "#훈련용 고양이 사진 디렉토리\n",
        "\n",
        "train_dogs_dir = os.path.join(train_dir,'dogs')\n",
        "os.mkdir(train_dogs_dir)\n",
        "#훈련용 강아지 사진 디렉토리"
      ],
      "metadata": {
        "id": "35-j-NSdb0Sb"
      },
      "execution_count": null,
      "outputs": []
    },
    {
      "cell_type": "code",
      "source": [
        "validation_cats_dir = os.path.join(validation_dir,'cats')\n",
        "os.mkdir(validation_cats_dir)\n",
        "#검증용 고양이 사진 디렉토리\n",
        "\n",
        "validation_dogs_dir = os.path.join(validation_dir,'dogs')\n",
        "os.mkdir(validation_dogs_dir)\n",
        "#검증용 강아지 사진 디렉토리"
      ],
      "metadata": {
        "id": "vh-e181ob1pI"
      },
      "execution_count": null,
      "outputs": []
    },
    {
      "cell_type": "code",
      "source": [
        "test_cats_dir = os.path.join(test_dir,'cats')\n",
        "os.mkdir(test_cats_dir)\n",
        "#테스트용 고양이 사진 디렉토리\n",
        "\n",
        "test_dogs_dir = os.path.join(test_dir,'dogs')\n",
        "os.mkdir(test_dogs_dir)\n",
        "#테스트용 강아지 사진 디렉토리"
      ],
      "metadata": {
        "id": "yYL_HBWbb29h"
      },
      "execution_count": null,
      "outputs": []
    },
    {
      "cell_type": "code",
      "source": [
        "fnames = ['cat.{}.jpg'.format(i) for i in range(1000)] # 처음 1000개의 고양이 이미지를 train_cats_dir에 복사\n",
        "for fname in fnames:\n",
        "  src = os.path.join(original_dataset_dir,fname)\n",
        "  dst = os.path.join(train_cats_dir,fname)\n",
        "  shutil.copyfile(src,dst)"
      ],
      "metadata": {
        "id": "mCQzRJ2sb4Mv"
      },
      "execution_count": null,
      "outputs": []
    },
    {
      "cell_type": "code",
      "source": [
        "fnames = ['cat.{}.jpg'.format(i) for i in range(1000,1500)] #다음 500개의 고양이 이미지를 validation_cats_dir에 복사\n",
        "for fname in fnames:\n",
        "  src = os.path.join(original_dataset_dir,fname)\n",
        "  dst = os.path.join(validation_cats_dir,fname)\n",
        "  shutil.copyfile(src,dst)"
      ],
      "metadata": {
        "id": "PCkkAxyDb52c"
      },
      "execution_count": null,
      "outputs": []
    },
    {
      "cell_type": "code",
      "source": [
        "fnames = ['cat.{}.jpg'.format(i) for i in range(1500,2000)] #다음 500개의 고양이 이미지를 test_cats_dir에 복사\n",
        "for fname in fnames:\n",
        "  src = os.path.join(original_dataset_dir,fname)\n",
        "  dst = os.path.join(test_cats_dir,fname)\n",
        "  shutil.copyfile(src,dst)"
      ],
      "metadata": {
        "id": "uHsjuJFtb7J4"
      },
      "execution_count": null,
      "outputs": []
    },
    {
      "cell_type": "markdown",
      "source": [
        "강아지에 대한 것"
      ],
      "metadata": {
        "id": "XCTIyfrYcaL4"
      }
    },
    {
      "cell_type": "code",
      "source": [
        "fnames = ['dog.{}.jpg'.format(i) for i in range(1000)] # 처음 1000개의 강아지 이미지를 train_dogs_dir에 복사\n",
        "for fname in fnames:\n",
        "  src = os.path.join(original_dataset_dir,fname)\n",
        "  dst = os.path.join(train_dogs_dir,fname)\n",
        "  shutil.copyfile(src,dst)"
      ],
      "metadata": {
        "id": "amXRYeEBb9no"
      },
      "execution_count": null,
      "outputs": []
    },
    {
      "cell_type": "code",
      "source": [
        "fnames = ['dog.{}.jpg'.format(i) for i in range(1000,1500)] # 다음 500개의 강아지 이미지를 validation_dogs_dir에 복사\n",
        "for fname in fnames:\n",
        "  src = os.path.join(original_dataset_dir,fname)\n",
        "  dst = os.path.join(validation_dogs_dir,fname)\n",
        "  shutil.copyfile(src,dst)"
      ],
      "metadata": {
        "id": "HTVzDhWPcbxV"
      },
      "execution_count": null,
      "outputs": []
    },
    {
      "cell_type": "code",
      "source": [
        "fnames = ['dog.{}.jpg'.format(i) for i in range(1500,2000)] # 다음 500개의 강아지 이미지를 test_dogs_dir에 복사\n",
        "for fname in fnames:\n",
        "  src = os.path.join(original_dataset_dir,fname)\n",
        "  dst = os.path.join(test_dogs_dir,fname)\n",
        "  shutil.copyfile(src,dst)"
      ],
      "metadata": {
        "id": "qPqlv4_LcdEE"
      },
      "execution_count": null,
      "outputs": []
    },
    {
      "cell_type": "markdown",
      "source": [
        "- shape 이 다르다면 경로가 잘 못 잡힌 경우가 많음"
      ],
      "metadata": {
        "id": "9fDCgcRkcuHJ"
      }
    },
    {
      "cell_type": "code",
      "source": [
        "print('훈련용 고양이 이미지 전체 개수', len(os.listdir(train_cats_dir)))\n",
        "print('검증용 고양이 이미지 전체 개수', len(os.listdir(validation_cats_dir)))\n",
        "print('테스트용 고양이 이미지 전체 개수', len(os.listdir(test_cats_dir)))"
      ],
      "metadata": {
        "colab": {
          "base_uri": "https://localhost:8080/"
        },
        "id": "7sW45Ssecfch",
        "outputId": "3a71dd77-e543-4366-8fa0-2de73b6271e2"
      },
      "execution_count": null,
      "outputs": [
        {
          "output_type": "stream",
          "name": "stdout",
          "text": [
            "훈련용 고양이 이미지 전체 개수 1000\n",
            "검증용 고양이 이미지 전체 개수 500\n",
            "테스트용 고양이 이미지 전체 개수 500\n"
          ]
        }
      ]
    },
    {
      "cell_type": "code",
      "source": [
        "print('훈련용 강아지 이미지 전체 개수', len(os.listdir(train_dogs_dir)))\n",
        "print('검증용 강아지 이미지 전체 개수', len(os.listdir(validation_dogs_dir)))\n",
        "print('테스트용 강아지 이미지 전체 개수', len(os.listdir(test_dogs_dir)))"
      ],
      "metadata": {
        "colab": {
          "base_uri": "https://localhost:8080/"
        },
        "id": "jYI-P6Apc1Ib",
        "outputId": "1480f7d1-fe9d-425f-cd32-c8607b182c84"
      },
      "execution_count": null,
      "outputs": [
        {
          "output_type": "stream",
          "name": "stdout",
          "text": [
            "훈련용 강아지 이미지 전체 개수 1000\n",
            "검증용 강아지 이미지 전체 개수 500\n",
            "테스트용 강아지 이미지 전체 개수 500\n"
          ]
        }
      ]
    },
    {
      "cell_type": "markdown",
      "source": [
        "locals설명"
      ],
      "metadata": {
        "id": "93Z26OZGc3L0"
      }
    },
    {
      "cell_type": "code",
      "source": [
        "x = 5       # global scope\n",
        "\n",
        "def myfunc():\n",
        "    x = 10  # local scope\n",
        "    print('x inside function is', x)\n",
        "\n",
        "myfunc()\n",
        "# Prints x inside function is 10\n",
        "\n",
        "print('x outside function is', x)\n",
        "# Prints x outside function is 5"
      ],
      "metadata": {
        "colab": {
          "base_uri": "https://localhost:8080/"
        },
        "id": "ivtPdDzJc2SC",
        "outputId": "fa3988e9-56d9-41a1-9582-3fb7ce34f94a"
      },
      "execution_count": null,
      "outputs": [
        {
          "output_type": "stream",
          "name": "stdout",
          "text": [
            "x inside function is 10\n",
            "x outside function is 5\n"
          ]
        }
      ]
    },
    {
      "cell_type": "code",
      "source": [
        "# Get the value of local variable 'x'\n",
        "x = 10\n",
        "print(locals()['x'])\n",
        "# Prints 10"
      ],
      "metadata": {
        "colab": {
          "base_uri": "https://localhost:8080/"
        },
        "id": "ftJSND0hrMb2",
        "outputId": "1635624e-41f1-404b-b386-1e298d221a05"
      },
      "execution_count": null,
      "outputs": [
        {
          "output_type": "stream",
          "name": "stdout",
          "text": [
            "10\n"
          ]
        }
      ]
    },
    {
      "cell_type": "code",
      "source": [
        "from keras import layers, models\n",
        "\n",
        "model = models.Sequential()\n",
        "model.add(layers.Conv2D(32,(3,3),activation = 'relu', input_shape=(150,150,3)))\n",
        "model.add(layers.MaxPool2D(pool_size=(2,2)))\n",
        "model.add(layers.Conv2D(64,(3,3),activation = 'relu'))\n",
        "model.add(layers.MaxPool2D(pool_size=(2,2)))\n",
        "model.add(layers.Conv2D(128,(3,3),activation = 'relu'))\n",
        "model.add(layers.MaxPool2D(pool_size=(2,2)))\n",
        "model.add(layers.Conv2D(128,(3,3),activation = 'relu'))\n",
        "model.add(layers.MaxPool2D(pool_size=(2,2)))\n",
        "model.add(layers.Flatten())\n",
        "model.add(layers.Dense(512,activation = 'relu'))\n",
        "model.add(layers.Dense(1,activation = 'sigmoid'))\n",
        "model.summary()"
      ],
      "metadata": {
        "colab": {
          "base_uri": "https://localhost:8080/"
        },
        "id": "URaWDrzerNot",
        "outputId": "42f2e57e-7790-457d-c996-1a36ca257e0d"
      },
      "execution_count": null,
      "outputs": [
        {
          "output_type": "stream",
          "name": "stdout",
          "text": [
            "Model: \"sequential\"\n",
            "_________________________________________________________________\n",
            " Layer (type)                Output Shape              Param #   \n",
            "=================================================================\n",
            " conv2d (Conv2D)             (None, 148, 148, 32)      896       \n",
            "                                                                 \n",
            " max_pooling2d (MaxPooling2D  (None, 74, 74, 32)       0         \n",
            " )                                                               \n",
            "                                                                 \n",
            " conv2d_1 (Conv2D)           (None, 72, 72, 64)        18496     \n",
            "                                                                 \n",
            " max_pooling2d_1 (MaxPooling  (None, 36, 36, 64)       0         \n",
            " 2D)                                                             \n",
            "                                                                 \n",
            " conv2d_2 (Conv2D)           (None, 34, 34, 128)       73856     \n",
            "                                                                 \n",
            " max_pooling2d_2 (MaxPooling  (None, 17, 17, 128)      0         \n",
            " 2D)                                                             \n",
            "                                                                 \n",
            " conv2d_3 (Conv2D)           (None, 15, 15, 128)       147584    \n",
            "                                                                 \n",
            " max_pooling2d_3 (MaxPooling  (None, 7, 7, 128)        0         \n",
            " 2D)                                                             \n",
            "                                                                 \n",
            " flatten (Flatten)           (None, 6272)              0         \n",
            "                                                                 \n",
            " dense (Dense)               (None, 512)               3211776   \n",
            "                                                                 \n",
            " dense_1 (Dense)             (None, 1)                 513       \n",
            "                                                                 \n",
            "=================================================================\n",
            "Total params: 3,453,121\n",
            "Trainable params: 3,453,121\n",
            "Non-trainable params: 0\n",
            "_________________________________________________________________\n"
          ]
        }
      ]
    },
    {
      "cell_type": "code",
      "source": [
        "from tensorflow.keras.optimizers import RMSprop\n",
        "\n",
        "model.compile(loss = 'binary_crossentropy', optimizer= RMSprop(learning_rate = 1e-4), metrics = ['acc'])"
      ],
      "metadata": {
        "id": "4VokkVYjrQfD"
      },
      "execution_count": null,
      "outputs": []
    },
    {
      "cell_type": "code",
      "source": [
        "from keras.preprocessing.image import ImageDataGenerator\n",
        "\n",
        "train_datagen = ImageDataGenerator(rescale  = 1./255)\n",
        "test_datagen = ImageDataGenerator(rescale  = 1./255)"
      ],
      "metadata": {
        "id": "xPjcXawErStV"
      },
      "execution_count": null,
      "outputs": []
    },
    {
      "cell_type": "code",
      "source": [
        "train_generator = train_datagen.flow_from_directory(\n",
        "    train_dir, #타깃 디렉터리\n",
        "    target_size = (150,150), #모든 이미지 150X150으로 만듬\n",
        "    batch_size = 20,\n",
        "    class_mode = 'binary') #loss = binary_crossentropy ->이진 레이블이 필요함.\n",
        "\n",
        "validation_generator = test_datagen.flow_from_directory(\n",
        "    validation_dir,\n",
        "    target_size = (150,150), #모든 이미지 150X150으로 만듬\n",
        "    batch_size = 20,\n",
        "    class_mode = 'binary') #loss = binary_crossentropy ->이진 레이블이 필요함.\n",
        ""
      ],
      "metadata": {
        "colab": {
          "base_uri": "https://localhost:8080/"
        },
        "id": "hgrcJJIrrUGJ",
        "outputId": "d0b3e2db-3859-4725-8e22-c66f875b3075"
      },
      "execution_count": null,
      "outputs": [
        {
          "output_type": "stream",
          "name": "stdout",
          "text": [
            "Found 2000 images belonging to 2 classes.\n",
            "Found 1000 images belonging to 2 classes.\n"
          ]
        }
      ]
    },
    {
      "cell_type": "code",
      "source": [
        "\n",
        "def generator():\n",
        "  i=0\n",
        "  while True:\n",
        "    i +=1\n",
        "    yield i"
      ],
      "metadata": {
        "id": "46PePWyErXAH"
      },
      "execution_count": null,
      "outputs": []
    },
    {
      "cell_type": "code",
      "source": [
        "for item in generator():\n",
        "  print(item)\n",
        "  if item >4:\n",
        "    break"
      ],
      "metadata": {
        "colab": {
          "base_uri": "https://localhost:8080/"
        },
        "id": "u2jfxwndrYzV",
        "outputId": "3d8d5066-824f-44b5-e930-6024daa4daa3"
      },
      "execution_count": null,
      "outputs": [
        {
          "output_type": "stream",
          "name": "stdout",
          "text": [
            "1\n",
            "2\n",
            "3\n",
            "4\n",
            "5\n"
          ]
        }
      ]
    },
    {
      "cell_type": "code",
      "source": [
        "for data_batch,labels_batch in train_generator:\n",
        "  print('배치 데이터 크기',data_batch.shape)\n",
        "  print('배치 레이블 크기',labels_batch.shape)\n",
        "  break"
      ],
      "metadata": {
        "colab": {
          "base_uri": "https://localhost:8080/"
        },
        "id": "njUm2wGyrZua",
        "outputId": "c21b5fa2-dd00-4bfe-a30d-efbb78cb31d4"
      },
      "execution_count": null,
      "outputs": [
        {
          "output_type": "stream",
          "name": "stdout",
          "text": [
            "배치 데이터 크기 (20, 150, 150, 3)\n",
            "배치 레이블 크기 (20,)\n"
          ]
        }
      ]
    },
    {
      "cell_type": "code",
      "source": [
        "history = model.fit_generator(\n",
        "    train_generator,\n",
        "    steps_per_epoch = 100,\n",
        "    epochs = 50,\n",
        "    validation_data= validation_generator,\n",
        "    validation_steps = 50)"
      ],
      "metadata": {
        "colab": {
          "base_uri": "https://localhost:8080/"
        },
        "id": "qEeOnn8crbBX",
        "outputId": "167a5daa-d330-473a-c7de-b1c1f7d545d2"
      },
      "execution_count": null,
      "outputs": [
        {
          "metadata": {
            "tags": null
          },
          "name": "stderr",
          "output_type": "stream",
          "text": [
            "<ipython-input-72-b09ada923a36>:1: UserWarning: `Model.fit_generator` is deprecated and will be removed in a future version. Please use `Model.fit`, which supports generators.\n",
            "  history = model.fit_generator(\n"
          ]
        },
        {
          "output_type": "stream",
          "name": "stdout",
          "text": [
            "Epoch 1/50\n",
            "100/100 [==============================] - 156s 2s/step - loss: 0.6910 - acc: 0.5190 - val_loss: 0.6839 - val_acc: 0.5610\n",
            "Epoch 2/50\n",
            "100/100 [==============================] - 148s 1s/step - loss: 0.6700 - acc: 0.5870 - val_loss: 0.6626 - val_acc: 0.5810\n",
            "Epoch 3/50\n",
            "100/100 [==============================] - 144s 1s/step - loss: 0.6556 - acc: 0.6015 - val_loss: 0.6744 - val_acc: 0.5770\n",
            "Epoch 4/50\n",
            "100/100 [==============================] - 152s 2s/step - loss: 0.6300 - acc: 0.6385 - val_loss: 0.6496 - val_acc: 0.5930\n",
            "Epoch 5/50\n",
            "100/100 [==============================] - 143s 1s/step - loss: 0.5951 - acc: 0.6760 - val_loss: 0.6046 - val_acc: 0.6630\n",
            "Epoch 6/50\n",
            "100/100 [==============================] - 146s 1s/step - loss: 0.5659 - acc: 0.7085 - val_loss: 0.7131 - val_acc: 0.5720\n",
            "Epoch 7/50\n",
            "100/100 [==============================] - 149s 1s/step - loss: 0.5450 - acc: 0.7200 - val_loss: 0.5894 - val_acc: 0.6870\n",
            "Epoch 8/50\n",
            "100/100 [==============================] - 148s 1s/step - loss: 0.5337 - acc: 0.7255 - val_loss: 0.5831 - val_acc: 0.6830\n",
            "Epoch 9/50\n",
            "100/100 [==============================] - 147s 1s/step - loss: 0.5125 - acc: 0.7350 - val_loss: 0.5820 - val_acc: 0.6880\n",
            "Epoch 10/50\n",
            "100/100 [==============================] - 146s 1s/step - loss: 0.4903 - acc: 0.7660 - val_loss: 0.5622 - val_acc: 0.6920\n",
            "Epoch 11/50\n",
            "100/100 [==============================] - 148s 1s/step - loss: 0.4719 - acc: 0.7650 - val_loss: 0.5528 - val_acc: 0.7000\n",
            "Epoch 12/50\n",
            "100/100 [==============================] - 146s 1s/step - loss: 0.4500 - acc: 0.7855 - val_loss: 0.5440 - val_acc: 0.7080\n",
            "Epoch 13/50\n",
            "100/100 [==============================] - 166s 2s/step - loss: 0.4311 - acc: 0.7990 - val_loss: 0.5954 - val_acc: 0.6850\n",
            "Epoch 14/50\n",
            "100/100 [==============================] - 142s 1s/step - loss: 0.4027 - acc: 0.8165 - val_loss: 0.7163 - val_acc: 0.6450\n",
            "Epoch 15/50\n",
            "100/100 [==============================] - 138s 1s/step - loss: 0.3835 - acc: 0.8305 - val_loss: 0.5490 - val_acc: 0.7200\n",
            "Epoch 16/50\n",
            "100/100 [==============================] - 137s 1s/step - loss: 0.3648 - acc: 0.8365 - val_loss: 0.5774 - val_acc: 0.7090\n",
            "Epoch 17/50\n",
            "100/100 [==============================] - 137s 1s/step - loss: 0.3401 - acc: 0.8490 - val_loss: 0.5855 - val_acc: 0.7140\n",
            "Epoch 18/50\n",
            "100/100 [==============================] - 137s 1s/step - loss: 0.3210 - acc: 0.8630 - val_loss: 0.5458 - val_acc: 0.7360\n",
            "Epoch 19/50\n",
            "100/100 [==============================] - 159s 2s/step - loss: 0.2981 - acc: 0.8805 - val_loss: 0.5881 - val_acc: 0.7280\n",
            "Epoch 20/50\n",
            "100/100 [==============================] - 139s 1s/step - loss: 0.2802 - acc: 0.8825 - val_loss: 0.6221 - val_acc: 0.7270\n",
            "Epoch 21/50\n",
            "100/100 [==============================] - 137s 1s/step - loss: 0.2653 - acc: 0.8880 - val_loss: 0.5439 - val_acc: 0.7460\n",
            "Epoch 22/50\n",
            "100/100 [==============================] - 134s 1s/step - loss: 0.2396 - acc: 0.9085 - val_loss: 0.6026 - val_acc: 0.7390\n",
            "Epoch 23/50\n",
            "100/100 [==============================] - 135s 1s/step - loss: 0.2247 - acc: 0.9125 - val_loss: 0.5924 - val_acc: 0.7390\n",
            "Epoch 24/50\n",
            "100/100 [==============================] - 132s 1s/step - loss: 0.2045 - acc: 0.9260 - val_loss: 0.6170 - val_acc: 0.7230\n",
            "Epoch 25/50\n",
            "100/100 [==============================] - 134s 1s/step - loss: 0.1842 - acc: 0.9355 - val_loss: 0.6110 - val_acc: 0.7310\n",
            "Epoch 26/50\n",
            "100/100 [==============================] - 138s 1s/step - loss: 0.1631 - acc: 0.9385 - val_loss: 0.6197 - val_acc: 0.7460\n",
            "Epoch 27/50\n",
            "100/100 [==============================] - 134s 1s/step - loss: 0.1506 - acc: 0.9475 - val_loss: 0.6624 - val_acc: 0.7420\n",
            "Epoch 28/50\n",
            "100/100 [==============================] - 138s 1s/step - loss: 0.1317 - acc: 0.9560 - val_loss: 0.7402 - val_acc: 0.7270\n",
            "Epoch 29/50\n",
            "100/100 [==============================] - 134s 1s/step - loss: 0.1154 - acc: 0.9610 - val_loss: 0.7435 - val_acc: 0.7330\n",
            "Epoch 30/50\n",
            "100/100 [==============================] - 136s 1s/step - loss: 0.1064 - acc: 0.9710 - val_loss: 0.7943 - val_acc: 0.7220\n",
            "Epoch 31/50\n",
            "100/100 [==============================] - 136s 1s/step - loss: 0.0916 - acc: 0.9705 - val_loss: 1.1438 - val_acc: 0.6900\n",
            "Epoch 32/50\n",
            "100/100 [==============================] - 136s 1s/step - loss: 0.0708 - acc: 0.9815 - val_loss: 0.9377 - val_acc: 0.7100\n",
            "Epoch 33/50\n",
            "100/100 [==============================] - 137s 1s/step - loss: 0.0758 - acc: 0.9730 - val_loss: 0.8501 - val_acc: 0.7290\n",
            "Epoch 34/50\n",
            "100/100 [==============================] - 134s 1s/step - loss: 0.0698 - acc: 0.9810 - val_loss: 0.8365 - val_acc: 0.7160\n",
            "Epoch 35/50\n",
            "100/100 [==============================] - 136s 1s/step - loss: 0.0465 - acc: 0.9870 - val_loss: 0.8669 - val_acc: 0.7330\n",
            "Epoch 36/50\n",
            "100/100 [==============================] - 138s 1s/step - loss: 0.0408 - acc: 0.9915 - val_loss: 0.9504 - val_acc: 0.7260\n",
            "Epoch 37/50\n",
            "100/100 [==============================] - 135s 1s/step - loss: 0.0369 - acc: 0.9890 - val_loss: 0.9391 - val_acc: 0.7290\n",
            "Epoch 38/50\n",
            "100/100 [==============================] - 138s 1s/step - loss: 0.0341 - acc: 0.9905 - val_loss: 0.9613 - val_acc: 0.7250\n",
            "Epoch 39/50\n",
            "100/100 [==============================] - 140s 1s/step - loss: 0.0258 - acc: 0.9960 - val_loss: 0.9974 - val_acc: 0.7350\n",
            "Epoch 40/50\n",
            "100/100 [==============================] - 139s 1s/step - loss: 0.0252 - acc: 0.9930 - val_loss: 1.0529 - val_acc: 0.7360\n",
            "Epoch 41/50\n",
            "100/100 [==============================] - 134s 1s/step - loss: 0.0191 - acc: 0.9955 - val_loss: 1.0801 - val_acc: 0.7370\n",
            "Epoch 42/50\n",
            "100/100 [==============================] - 136s 1s/step - loss: 0.0125 - acc: 0.9975 - val_loss: 1.1116 - val_acc: 0.7480\n",
            "Epoch 43/50\n",
            "100/100 [==============================] - 138s 1s/step - loss: 0.0152 - acc: 0.9960 - val_loss: 1.7988 - val_acc: 0.6910\n",
            "Epoch 44/50\n",
            "100/100 [==============================] - 136s 1s/step - loss: 0.0109 - acc: 0.9975 - val_loss: 1.2522 - val_acc: 0.7330\n",
            "Epoch 45/50\n",
            "100/100 [==============================] - 139s 1s/step - loss: 0.0092 - acc: 0.9985 - val_loss: 1.3649 - val_acc: 0.7260\n",
            "Epoch 46/50\n",
            "100/100 [==============================] - 135s 1s/step - loss: 0.0149 - acc: 0.9950 - val_loss: 1.2939 - val_acc: 0.7280\n",
            "Epoch 47/50\n",
            "100/100 [==============================] - 134s 1s/step - loss: 0.0204 - acc: 0.9930 - val_loss: 1.2851 - val_acc: 0.7360\n",
            "Epoch 48/50\n",
            "100/100 [==============================] - 135s 1s/step - loss: 0.0115 - acc: 0.9970 - val_loss: 1.3612 - val_acc: 0.7230\n",
            "Epoch 49/50\n",
            "100/100 [==============================] - 136s 1s/step - loss: 0.0020 - acc: 1.0000 - val_loss: 1.4625 - val_acc: 0.7300\n",
            "Epoch 50/50\n",
            "100/100 [==============================] - 135s 1s/step - loss: 0.0107 - acc: 0.9960 - val_loss: 1.4213 - val_acc: 0.7250\n"
          ]
        }
      ]
    },
    {
      "cell_type": "code",
      "source": [],
      "metadata": {
        "id": "-nPDHJECrcFV"
      },
      "execution_count": null,
      "outputs": []
    }
  ]
}