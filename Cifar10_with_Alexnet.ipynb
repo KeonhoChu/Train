{
  "cells": [
    {
      "cell_type": "markdown",
      "metadata": {
        "id": "view-in-github",
        "colab_type": "text"
      },
      "source": [
        "<a href=\"https://colab.research.google.com/github/KeonhoChu/Train/blob/main/Cifar10_with_Alexnet.ipynb\" target=\"_parent\"><img src=\"https://colab.research.google.com/assets/colab-badge.svg\" alt=\"Open In Colab\"/></a>"
      ]
    },
    {
      "cell_type": "markdown",
      "metadata": {
        "id": "-2yeUinzKzBY"
      },
      "source": [
        "##Cifar10 with Alexnet"
      ]
    },
    {
      "cell_type": "code",
      "execution_count": null,
      "metadata": {
        "id": "lWGG56LUGhBd"
      },
      "outputs": [],
      "source": [
        "import os\n",
        "import numpy as np\n",
        "import matplotlib.pyplot as plt\n",
        "\n",
        "\n",
        "from keras.datasets import cifar10,cifar100\n",
        "from keras.models import Sequential\n",
        "from keras.layers import Dense,Conv2D,Dropout,Flatten,MaxPooling2D\n",
        "from keras.constraints import maxnorm #매개변수에 제약.ex)kernel_constraint: 주요 가중치 행렬에 대해서 제약.\n",
        "from tensorflow.keras.optimizers import SGD,Adam\n",
        "from keras.callbacks import ModelCheckpoint, LearningRateScheduler,ReduceLROnPlateau,EarlyStopping\n",
        "from keras.regularizers import L2\n",
        "from keras import backend as K\n",
        "from keras.utils import np_utils\n",
        "from keras.preprocessing.image import ImageDataGenerator\n",
        "\n",
        "import skimage\n",
        "from skimage.util import img_as_ubyte"
      ]
    },
    {
      "cell_type": "code",
      "execution_count": null,
      "metadata": {
        "colab": {
          "base_uri": "https://localhost:8080/",
          "height": 36
        },
        "id": "7rH68WQ-Ja_K",
        "outputId": "0373a623-2169-456a-f761-fb5fc0f1ede7"
      },
      "outputs": [
        {
          "data": {
            "application/vnd.google.colaboratory.intrinsic+json": {
              "type": "string"
            },
            "text/plain": [
              "'/content'"
            ]
          },
          "execution_count": 2,
          "metadata": {},
          "output_type": "execute_result"
        }
      ],
      "source": [
        "\n",
        "os.getcwd()"
      ]
    },
    {
      "cell_type": "code",
      "execution_count": null,
      "metadata": {
        "colab": {
          "base_uri": "https://localhost:8080/"
        },
        "id": "VqpZDHPcJxox",
        "outputId": "f324bae6-2fc9-4231-a997-f7e9a41a6ced"
      },
      "outputs": [
        {
          "name": "stdout",
          "output_type": "stream",
          "text": [
            "Model Type:  Alexnet\n",
            "Model File:  /content/saved_models/cifar-10_Alexnet_model.{epoch:03d}.h5\n"
          ]
        }
      ],
      "source": [
        "#Defining Variables\n",
        "\n",
        "#Data set information\n",
        "DATASET = 'cifar-10'\n",
        "#DATASET = 'cifar-100'\n",
        "input_shape=(32,32,3)\n",
        "\n",
        "if DATASET == 'cifar-10':\n",
        "  num_classes = 10\n",
        "elif DATASET == 'cifar-100':\n",
        "  num_classes = 100\n",
        "\n",
        "#Model Parameters\n",
        "\n",
        "model_type = 'Alexnet'\n",
        "\n",
        "epochs = 25\n",
        "lrate = 0.01\n",
        "decay = lrate/epochs #lrate *decay(1)*decay(2)\n",
        "batch_size = 32\n",
        "\n",
        "data_augmentation = True\n",
        "flow_from_dir = False #cifar10->keras\n",
        "\n",
        "subtract_mean = True #batch=32->mean->반영해달라.\n",
        "seed = 7\n",
        "np.random.seed(seed)\n",
        "#현재 path ->content\n",
        "validate_dir = os.path.join(\"data\",\"test\") #path를 data폴더에 test를 연결해주세요.\n",
        "train_dir = os.path.join(\"data\",\"train\")#path를 data폴더에 train를 연결해주세요.\n",
        "\n",
        "# Prepare model model saving directory.\n",
        "#현재 디렉토리 : os.getcwd()\n",
        "save_dir = os.path.join(os.getcwd(), 'saved_models') #content +saved_models\n",
        "\n",
        "#model_name = 'cifar10_%s_model.{epoch:03d}.h5' % model_type\n",
        "model_name = DATASET+'_'+'%s_model.{epoch:03d}.h5' % model_type\n",
        "\n",
        "if not os.path.isdir(save_dir):\n",
        "    os.makedirs(save_dir)\n",
        "filepath = os.path.join(save_dir, model_name)\n",
        "print(\"Model Type: \",model_type)\n",
        "print(\"Model File: \",filepath)"
      ]
    },
    {
      "cell_type": "code",
      "execution_count": null,
      "metadata": {
        "id": "gwwhnSNAJz_Q"
      },
      "outputs": [],
      "source": [
        "if flow_from_dir:\n",
        "  if DATASET == 'cifar-10':\n",
        "    %pip install cifar2png # CIFAR-10 또는 CIFAR-100 데이터 세트를 PNG 이미지로 변환합니다.\n",
        "    %cifar2png cifar10 \"data\""
      ]
    },
    {
      "cell_type": "code",
      "execution_count": null,
      "metadata": {
        "colab": {
          "base_uri": "https://localhost:8080/",
          "height": 471
        },
        "id": "o0RiJuHvJ1Vv",
        "outputId": "959f8767-c71e-4eef-f9a3-d05a71674d55"
      },
      "outputs": [
        {
          "name": "stdout",
          "output_type": "stream",
          "text": [
            "Downloading data from https://www.cs.toronto.edu/~kriz/cifar-10-python.tar.gz\n",
            "170498071/170498071 [==============================] - 4s 0us/step\n"
          ]
        },
        {
          "data": {
            "image/png": "[encoded data removed]",
            "text/plain": [
              "<Figure size 640x480 with 9 Axes>"
            ]
          },
          "metadata": {},
          "output_type": "display_data"
        }
      ],
      "source": [
        "if not flow_from_dir:\n",
        "  #load data\n",
        "  if DATASET == 'cifar-10':\n",
        "    (X_train, y_train),(X_test,y_test) = cifar10.load_data()\n",
        "    X_train.shape, X_test.shape, X_train.shape[1:],X_train.dtype\n",
        "  elif DATASET == 'cifar-100':\n",
        "    (X_train, y_train),(X_test,y_test) = cifar100.load_data()\n",
        "    X_train.shape, X_test.shape, X_train.shape[1:],X_train.dtype\n",
        "\n",
        "  #Plot data\n",
        "  for i in range(0,9):\n",
        "    plt.subplot(330+1+i)\n",
        "    plt.imshow(X_train[i])\n",
        "  plt.show()\n",
        ""
      ]
    },
    {
      "cell_type": "code",
      "execution_count": null,
      "metadata": {
        "id": "-mUC2i8EJ20L"
      },
      "outputs": [],
      "source": [
        "\n",
        "def convert_to_imagenet_size(images):\n",
        "  tmp_images = []\n",
        "  for image in images:\n",
        "    image = skimage.transform.resize(image,(224,224),mode='constant')\n",
        "    image = img_as_ubyte(image)\n",
        "    tmp_images.append(image)\n",
        "  return np.array(tmp_images)"
      ]
    },
    {
      "cell_type": "code",
      "execution_count": null,
      "metadata": {
        "colab": {
          "base_uri": "https://localhost:8080/"
        },
        "id": "Jmz7vsywJ8Iu",
        "outputId": "cb1e13c8-5129-4290-c5e5-0169b2294a19"
      },
      "outputs": [
        {
          "name": "stdout",
          "output_type": "stream",
          "text": [
            "(50000, 1) (10000, 1)\n"
          ]
        }
      ],
      "source": [
        "#Data Normalization\n",
        "if not flow_from_dir: #True\n",
        "  if not data_augmentation: #False\n",
        "    X_train = X_train.astype('float32')\n",
        "    X_test = X_test.astype('float32')\n",
        "    X_train = X_train/255.\n",
        "    X_test = X_test/255.\n",
        "\n",
        "    if subtract_mean:\n",
        "      X_train_mean = np.mean(X_train)\n",
        "      X_train -= X_train_mean\n",
        "      X_test_mean = np.mean(X_test)\n",
        "      X_test -= X_test_mean\n",
        "\n",
        "  print(y_train.shape, y_test.shape)"
      ]
    },
    {
      "cell_type": "code",
      "execution_count": null,
      "metadata": {
        "colab": {
          "base_uri": "https://localhost:8080/"
        },
        "id": "rtzGT1QgJ9gL",
        "outputId": "c164e42b-1c75-4175-cea7-4527dfc3f98c"
      },
      "outputs": [
        {
          "data": {
            "text/plain": [
              "False"
            ]
          },
          "execution_count": 8,
          "metadata": {},
          "output_type": "execute_result"
        }
      ],
      "source": [
        "\n",
        "flow_from_dir"
      ]
    },
    {
      "cell_type": "code",
      "execution_count": null,
      "metadata": {
        "id": "akEQ0aRfJ-tu"
      },
      "outputs": [],
      "source": [
        "\n",
        "if not data_augmentation: #False\n",
        "    print('a')\n"
      ]
    },
    {
      "cell_type": "code",
      "execution_count": null,
      "metadata": {
        "colab": {
          "base_uri": "https://localhost:8080/"
        },
        "id": "rFobYioAJ_4C",
        "outputId": "4445e581-ee2e-4c9f-cf17-fa099b0f6f41"
      },
      "outputs": [
        {
          "name": "stdout",
          "output_type": "stream",
          "text": [
            "a\n"
          ]
        }
      ],
      "source": [
        "if not flow_from_dir: #True\n",
        "    print('a')"
      ]
    },
    {
      "cell_type": "code",
      "execution_count": null,
      "metadata": {
        "colab": {
          "base_uri": "https://localhost:8080/"
        },
        "id": "SQ8xMy0WKCO-",
        "outputId": "b04f3c8e-a759-4c82-e479-63b154111a48"
      },
      "outputs": [
        {
          "name": "stdout",
          "output_type": "stream",
          "text": [
            "(50000, 10) (10000, 10)\n"
          ]
        }
      ],
      "source": [
        "\n",
        "if not flow_from_dir:\n",
        "  y_train = np_utils.to_categorical(y_train)\n",
        "  y_test = np_utils.to_categorical(y_test)\n",
        "  print(y_train.shape, y_test.shape)\n",
        ""
      ]
    },
    {
      "cell_type": "code",
      "execution_count": null,
      "metadata": {
        "colab": {
          "base_uri": "https://localhost:8080/"
        },
        "id": "kAg57xHVKDzh",
        "outputId": "84208efb-f4a0-4b49-a6d2-f88aa3a360a1"
      },
      "outputs": [
        {
          "data": {
            "text/plain": [
              "((32, 32, 3), 10)"
            ]
          },
          "execution_count": 12,
          "metadata": {},
          "output_type": "execute_result"
        }
      ],
      "source": [
        "\n",
        "#num_classes = y_train.shape[1]\n",
        "#input_shape=X_train.shape[1:]\n",
        "\n",
        "input_shape,num_classes"
      ]
    },
    {
      "cell_type": "code",
      "execution_count": null,
      "metadata": {
        "id": "bC_yuzVfKE1o"
      },
      "outputs": [],
      "source": [
        "#Define Alexnet Model\n",
        "def AlexnetModel(input_shape,num_classes):\n",
        "  model = Sequential()\n",
        "  model.add(Conv2D(filters=96,kernel_size=(3,3),strides=(4,4),input_shape=input_shape, activation='relu'))\n",
        "  model.add(MaxPooling2D(pool_size=(2,2),strides=(2,2)))\n",
        "  model.add(Conv2D(256,(5,5),padding='same',activation='relu'))\n",
        "  model.add(MaxPooling2D(pool_size=(2,2),strides=(2,2)))\n",
        "  model.add(Conv2D(384,(3,3),padding='same',activation='relu'))\n",
        "  model.add(Conv2D(384,(3,3),padding='same',activation='relu'))\n",
        "  model.add(Conv2D(256,(3,3),padding='same',activation='relu'))\n",
        "  model.add(MaxPooling2D(pool_size=(2,2),strides=(2,2)))\n",
        "\n",
        "  model.add(Flatten())\n",
        "  model.add(Dense(4096, activation='relu'))\n",
        "  model.add(Dropout(0.4))\n",
        "  model.add(Dense(4096, activation='relu'))\n",
        "  model.add(Dropout(0.4))\n",
        "  model.add(Dense(num_classes,activation='softmax'))\n",
        "\n",
        "  #model.compile(optimizer='adam',loss='categorical_crossentropy',metrics=['accuracy'])\n",
        "\n",
        "  #model.summary()\n",
        "  return model"
      ]
    },
    {
      "cell_type": "code",
      "execution_count": null,
      "metadata": {
        "id": "jHwIBs2qKGVA"
      },
      "outputs": [],
      "source": [
        "\n",
        "def get_model(input_shape,num_classes):\n",
        "  # Create the model - Normal model with CNN, dropouts and MaxPooling.\n",
        "  # This model gives accuracy of 77% on the test set after 25 epochs\n",
        "\n",
        "  model = Sequential()\n",
        "\n",
        "  #model.add(Conv2D(32,(3,3),input_shape=(32,32,3),padding='same',activation='relu'))\n",
        "  model.add(Conv2D(32,(3,3),input_shape=input_shape,padding='same',activation='relu'))\n",
        "  model.add(Dropout(0.2))\n",
        "\n",
        "  model.add(Conv2D(32,(3,3),activation='relu',padding='same'))\n",
        "  model.add(MaxPooling2D(pool_size=(2,2)))\n",
        "\n",
        "  model.add(Conv2D(64,(3,3),activation='relu',padding='same'))\n",
        "  model.add(Dropout(0.2))\n",
        "\n",
        "  model.add(Conv2D(64,(3,3),activation='relu',padding='same'))\n",
        "  model.add(MaxPooling2D(pool_size=(2,2)))\n",
        "\n",
        "  model.add(Conv2D(128,(3,3),activation='relu',padding='same'))\n",
        "  model.add(Dropout(0.2))\n",
        "\n",
        "  model.add(Conv2D(128,(3,3),activation='relu',padding='same'))\n",
        "  model.add(MaxPooling2D(pool_size=(2,2)))\n",
        "\n",
        "  model.add(Flatten())\n",
        "  model.add(Dropout(0.2))\n",
        "\n",
        "  model.add(Dense(1024,activation='relu'))\n",
        "  model.add(Dropout(0.2))\n",
        "\n",
        "  model.add(Dense(512,activation='relu'))\n",
        "  model.add(Dropout(0.2))\n",
        "\n",
        "  model.add(Dense(num_classes,activation='softmax'))\n",
        "\n",
        "  return model"
      ]
    },
    {
      "cell_type": "code",
      "execution_count": null,
      "metadata": {
        "id": "CcigwX8KKH8o"
      },
      "outputs": [],
      "source": [
        "def lr_schedule(epoch):\n",
        "    \"\"\"Learning Rate Schedule\n",
        "\n",
        "    Learning rate is scheduled to be reduced after 80, 120, 160, 180 epochs.\n",
        "    Called automatically every epoch as part of callbacks during training.\n",
        "\n",
        "    # Arguments\n",
        "        epoch (int): The number of epochs\n",
        "\n",
        "    # Returns\n",
        "        lr (float32): learning rate\n",
        "    \"\"\"\n",
        "    lr = 1e-3\n",
        "    if epoch > 180:\n",
        "        lr *= 0.5e-3\n",
        "    elif epoch > 160:\n",
        "        lr *= 1e-3\n",
        "    elif epoch > 120:\n",
        "        lr *= 1e-2\n",
        "    elif epoch > 80:\n",
        "        lr *= 1e-1\n",
        "    print('Learning rate: ', lr)\n",
        "    return lr"
      ]
    },
    {
      "cell_type": "markdown",
      "metadata": {
        "id": "MDKN6czQKMB7"
      },
      "source": [
        "#Earlystopping의 인자\n",
        "\n",
        "- EarlyStopping(monitor='val_loss', min_delta=0, patience=0, verbose=0, mode='auto') (-> default 값으로 구성)\n",
        "\n",
        "- monitor : 학습 조기 종료를 위해 관찰하는 항목으로 val_loss(default)나 val_acc를 주로 사용한다.\n",
        "\n",
        "- min_delta : 개선되고 있다고 판단하기 위한 최소 변화\n",
        "\n",
        "- patience : 개선이 없어도 바로 종료하지 않고 그러한 epoch를 기다리는 횟수\n",
        "\n",
        "- verbose : 얼마나 자세하게 정보를 표현할 것인지를 지정\n",
        "\n",
        "- verbose=0 : Silent\n",
        "\n",
        "- verbose=1 : progress bar\n",
        "\n",
        "- verbose=2 : one line per epoch\n",
        "\n",
        "- mode : monitor에 대해 개선이 없다고 판단하기 위한 기준. min은 monitor 항목이 감소가 멈출 때 종료, max는 증가가 멈출 때 종료, auto(default)는 관찰하는 이름에 따라 자동으로 설정\n",
        "\n",
        " ex) monitor = 'val_loss'인 경우에는 감소가 멈출 때 종료되어야 하므로 min으로 설정\n",
        "\n",
        " 참고 : 출처: https://deep-deep-deep.tistory.com/56 [딥딥딥]\n",
        "\n",
        "#ReduceLROnPlateau\n",
        "\n",
        "모델의 개선이 없을 경우, Learning Rate를 조절해 모델의 개선을 유도하는 콜백함수\n",
        "\n",
        "- monitor : ReduceLROnPlateau의 기준이 되는 값을 입력합니다. 만약 'val_loss'를 입력하면 val_loss가 더이상 감소되지 않을 경우 ReduceLROnPlateau을 적용합니다.\n",
        "\n",
        "이외에도 다양한 값을 입력할 수 있습니다.\n",
        "\n",
        "- factor : Learning rate를 얼마나 감소시킬 지 정하는 인자값입니다. 새로운 learning rate는 기존 learning rate * factor입니다. 예를 들어 현재 lr이 0.01이고 factor가 0.8일 때, 콜백함수가 실행된다면 그 다음 lr은 0.008이 됩니다. 또다른 예로 현재 lr이 0.3이고 factor가 0.1일 때, 콜백함수가 실행된다면 그 다음 lr은 0.03이 됩니다.\n",
        "\n",
        "- patience : Training이 진행됨에도 더이상 monitor되는 값의 개선이 없을 경우, 최적의 monitor 값을 기준으로 몇 번의 epoch을 진행하고, learning rate를 조절할 지의 값입니다. 예시를 통해 이해하는 게 더 좋을 것 같습니다. 예를 들어 patience는 3이고, 30에폭에 정확도가 99%였을 때, 만약 31번째에 정확도 98%, 32번째에 98.5%, 33번째에 98%라면 모델의 개선이 (patience=3)동안 개선이 없었기에, ReduceLROnPlateau 콜백함수를 실행합니다.\n",
        "\n",
        "- verbose : 얼마나 자세하게 정보를 표현할 것 인지를 지정\n",
        "\n",
        "- verbose=0 : Silent\n",
        "- verbose=1 : progress bar\n",
        "- verbose=2 : one line per epoch\n",
        "- mode : \"auto\" 또는 \"min\" 또는 \"max\" monitor되는 값이 최소가 되어야 하는지, 최대가 되어야 하는지 알려주는 인자입니다. 예를 들어, monitor하는 값이 val_acc 즉 정확도일 경우, 값이 클수록 좋기때문에 \"max\"를 입력하고, val_loss일 경우 작을수록 좋기 때문에 \"min\"을 입력합니다.\n",
        "\n",
        "#\"auto\"는 모델이 알아서 판단합니다.\n",
        "\n",
        "- min_delta : 개선된 것으로 간주하기 위한 최소한의 변화량입니다. 예를 들어, min_delta가 0.01이고, 30에폭에 정확도가 0.8532라고 할 때,\n",
        "만약 31에폭에 정확도가 0.8537라고 하면 이는 0.005의 개선이 있었지만 min_delta 값 0.01에는 미치지 못했으므로 개선된 것으로 보지 않습니다.\n",
        "\n",
        "- cooldown : Learning rate가 감소한 후, ReduceLROnPlateau 콜백함수를 다시 실행하기 전에 대기 할 Epoch 수입니다. 예시로 이해하는 게 좋을 것 같습니다. 예를 들어, factor가 3이고, cooldown이 5일 때, 만약 ReduceLROnPlateau이 적용되어 learning rate가 감소되었다고 합시다. 감소된 이후에도, 3에폭 연속 monitor 값의 개선이 없다고 해도, ReduceLROnPlateau는 실행되지 않습니다. cooldown이 적용되고 있기 때문입니다. cooldown 값인 5 에폭 실행 후, 3번 연속 moniort 값의 개선이 없을 시, ReduceLROnPlateau이 다시 적용됩니다.\n",
        "\n",
        "- min_lr : Learning rate의 하한선을 지정합니다.b 예를 들어 현재 lr이 0.1이고 factor가 0.5이고, min_lr이 0.03이라면, 첫 번째로 콜백함수가 적용될 시, lr은 0.05(0.10.5)이 됩니다. 두 번째로 콜백함수가 적용된다면 0.025(0.10.5*0.5)이지만, min_lr이 0.03이기 때문에, 새로운 learning rate는 0.025가 아닌, 0.03이 됩니다."
      ]
    },
    {
      "cell_type": "code",
      "execution_count": null,
      "metadata": {
        "id": "ssYGZNoVKJY-"
      },
      "outputs": [],
      "source": [
        "#Prepare callbacks for model saving and for learning rate adjustment.\n",
        "\n",
        "early_stopping = EarlyStopping(monitor='val_loss', min_delta=0.001, patience=5, verbose=0, mode='auto', baseline=None, restore_best_weights=True)\n",
        "\n",
        "checkpoint = ModelCheckpoint(filepath=filepath,\n",
        "                             monitor='val_acc',\n",
        "                             verbose=1,\n",
        "                             save_best_only=True)\n",
        "\n",
        "lr_scheduler = LearningRateScheduler(lr_schedule)\n",
        "\n",
        "lr_reducer = ReduceLROnPlateau(factor=np.sqrt(0.1),\n",
        "                               cooldown=0,\n",
        "                               patience=5,\n",
        "                               min_lr=0.5e-6)\n",
        "\n",
        "callbacks = [checkpoint, lr_reducer, lr_scheduler,early_stopping]"
      ]
    },
    {
      "cell_type": "markdown",
      "metadata": {
        "id": "bqSFoMcWK9Ib"
      },
      "source": [
        "#Adam\n",
        ": 아담(Adam)은 Adaptive Moment Estimation의 약자입니다. 모멘텀과 RMSprop을 섞어놓은 최적화 알고리즘 입기 때문에, 딥러닝에서 가장 흔히 사용되는 최적화 알고리즘 입니다.\n",
        "\n",
        "참고 : https://velog.io/@minjung-s/Optimization-Algorithm#:~:text=%EC%95%84%EB%8B%B4(Adam)%EC%9D%80%20Adaptive%20Moment,%EC%82%AC%EC%9A%A9%EB%90%98%EB%8A%94%20%EC%B5%9C%EC%A0%81%ED%99%94%20%EC%95%8C%EA%B3%A0%EB%A6%AC%EC%A6%98%20%EC%9E%85%EB%8B%88%EB%8B%A4.\n",
        "\n",
        "- lr: 0보다 크거나 같은 float 값. 학습률.\n",
        "- beta_1: 0보다 크고 1보다 작은 float 값. 일반적으로 1에 가깝게 설정됩니다.\n",
        "- beta_2: 0보다 크고 1보다 작은 float 값. 일반적으로 1에 가깝게 설정됩니다.\n",
        "epsilon: 0보다 크거나 같은 float형 fuzz factor. None인 경우 K.epsilon()이 사용됩니다.\n",
        "-decay: 0보다 크거나 같은 float 값. 업데이트마다 적용되는 학습률의  감소율입니다.\n",
        "- amsgrad: 불리언. Adam의 변형인 AMSGrad의 적용 여부를 설정합니다. AMSGrad는 \"On the Convergence of Adam and Beyond\" 논문에서 소개되었습니다."
      ]
    },
    {
      "cell_type": "code",
      "execution_count": null,
      "metadata": {
        "colab": {
          "base_uri": "https://localhost:8080/"
        },
        "id": "RcYKO4ecK7Xk",
        "outputId": "86a7d4cf-c1b7-4284-bec0-fd41970b0f9c"
      },
      "outputs": [
        {
          "name": "stderr",
          "output_type": "stream",
          "text": [
            "WARNING:absl:`lr` is deprecated in Keras optimizer, please use `learning_rate` or use the legacy optimizer, e.g.,tf.keras.optimizers.legacy.Adam.\n"
          ]
        },
        {
          "name": "stdout",
          "output_type": "stream",
          "text": [
            "Model Summary of  Alexnet\n",
            "Model: \"sequential\"\n",
            "_________________________________________________________________\n",
            " Layer (type)                Output Shape              Param #   \n",
            "=================================================================\n",
            " conv2d (Conv2D)             (None, 8, 8, 96)          2688      \n",
            "                                                                 \n",
            " max_pooling2d (MaxPooling2D  (None, 4, 4, 96)         0         \n",
            " )                                                               \n",
            "                                                                 \n",
            " conv2d_1 (Conv2D)           (None, 4, 4, 256)         614656    \n",
            "                                                                 \n",
            " max_pooling2d_1 (MaxPooling  (None, 2, 2, 256)        0         \n",
            " 2D)                                                             \n",
            "                                                                 \n",
            " conv2d_2 (Conv2D)           (None, 2, 2, 384)         885120    \n",
            "                                                                 \n",
            " conv2d_3 (Conv2D)           (None, 2, 2, 384)         1327488   \n",
            "                                                                 \n",
            " conv2d_4 (Conv2D)           (None, 2, 2, 256)         884992    \n",
            "                                                                 \n",
            " max_pooling2d_2 (MaxPooling  (None, 1, 1, 256)        0         \n",
            " 2D)                                                             \n",
            "                                                                 \n",
            " flatten (Flatten)           (None, 256)               0         \n",
            "                                                                 \n",
            " dense (Dense)               (None, 4096)              1052672   \n",
            "                                                                 \n",
            " dropout (Dropout)           (None, 4096)              0         \n",
            "                                                                 \n",
            " dense_1 (Dense)             (None, 4096)              16781312  \n",
            "                                                                 \n",
            " dropout_1 (Dropout)         (None, 4096)              0         \n",
            "                                                                 \n",
            " dense_2 (Dense)             (None, 10)                40970     \n",
            "                                                                 \n",
            "=================================================================\n",
            "Total params: 21,589,898\n",
            "Trainable params: 21,589,898\n",
            "Non-trainable params: 0\n",
            "_________________________________________________________________\n",
            "None\n"
          ]
        }
      ],
      "source": [
        "#model = get_model(input_shape,num_classes)\n",
        "if model_type == 'Alexnet':\n",
        "  #input_shape = (224,224,3)\n",
        "  model = AlexnetModel(input_shape,num_classes)\n",
        "else:\n",
        "  model = get_model(input_shape,num_classes)\n",
        "\n",
        "# Compile model\n",
        "\n",
        "# optimizer = SGD(lr=lrate, momentum=0.9, decay=decay, nesterov=False)\n",
        "#학습률을 줄이면서 학습하려면 위의 주석을 푸세요.\n",
        "optimizer = Adam(lr=0.001, beta_1=0.9, beta_2=0.999, amsgrad=False)\n",
        "model.compile(loss= 'categorical_crossentropy' , optimizer=optimizer, metrics=[ 'accuracy' ])\n",
        "print(\"Model Summary of \",model_type)\n",
        "print(model.summary())"
      ]
    },
    {
      "cell_type": "markdown",
      "metadata": {
        "id": "foeUcwLLLRZ0"
      },
      "source": [
        "- ImageDataGenerator : Noise 삽입, 색상, 밝기 변형 등을 활용하여 실시간으로 데이터 증강을 사용하고, 텐서 이미지 데이터 배치를 생성하여 데이터 학습의 정확도를 역할을 한다.\n",
        "\n",
        "- 학습데이터를 조금씩 변형시켜서 학습데이터의 양을 늘리는 방식 중 하나.\n",
        "\n",
        "- ZCA Whiteing 참고) https://ucsd.tistory.com/39#:~:text=%EB%A5%BC%20%EC%9D%98%EB%AF%B8%ED%95%A8)-,ZCA%20whitening,%EC%B0%A8%EC%9B%90%20%EA%B0%90%EC%86%8C%EB%8A%94%20%EC%9D%BC%EC%96%B4%EB%82%98%EC%A7%80%20%EC%95%8A%EB%8A%94%EB%8B%A4."
      ]
    },
    {
      "cell_type": "code",
      "execution_count": null,
      "metadata": {
        "colab": {
          "base_uri": "https://localhost:8080/"
        },
        "id": "yGlW8dktLNSo",
        "outputId": "646f1504-22bb-4264-fd8f-d9f904186904"
      },
      "outputs": [
        {
          "output_type": "stream",
          "name": "stdout",
          "text": [
            "Using real-time data augmentation.\n",
            "model using data from downloaded dataset in memoory\n"
          ]
        },
        {
          "output_type": "stream",
          "name": "stderr",
          "text": [
            "<ipython-input-20-1a16394c1ab7>:50: UserWarning: `Model.fit_generator` is deprecated and will be removed in a future version. Please use `Model.fit`, which supports generators.\n",
            "  history = model.fit_generator(datagen.flow(X_train, y_train,\n"
          ]
        },
        {
          "output_type": "stream",
          "name": "stdout",
          "text": [
            "Learning rate:  0.001\n",
            "Epoch 1/25\n",
            "1560/1563 [============================>.] - ETA: 0s - loss: 1.1867 - accuracy: 0.5887"
          ]
        },
        {
          "output_type": "stream",
          "name": "stderr",
          "text": [
            "WARNING:tensorflow:Can save best model only with val_acc available, skipping.\n"
          ]
        },
        {
          "output_type": "stream",
          "name": "stdout",
          "text": [
            "\b\b\b\b\b\b\b\b\b\b\b\b\b\b\b\b\b\b\b\b\b\b\b\b\b\b\b\b\b\b\b\b\b\b\b\b\b\b\b\b\b\b\b\b\b\b\b\b\b\b\b\b\b\b\b\b\b\b\b\b\b\b\b\b\b\b\b\b\b\b\b\b\b\b\b\b\b\b\b\b\b\b\b\b\b\b\r1563/1563 [==============================] - 65s 41ms/step - loss: 1.1872 - accuracy: 0.5885 - val_loss: 1.2010 - val_accuracy: 0.5712 - lr: 0.0010\n",
            "Learning rate:  0.001\n",
            "Epoch 2/25\n",
            "1561/1563 [============================>.] - ETA: 0s - loss: 1.1781 - accuracy: 0.5877"
          ]
        },
        {
          "output_type": "stream",
          "name": "stderr",
          "text": [
            "WARNING:tensorflow:Can save best model only with val_acc available, skipping.\n"
          ]
        },
        {
          "output_type": "stream",
          "name": "stdout",
          "text": [
            "\b\b\b\b\b\b\b\b\b\b\b\b\b\b\b\b\b\b\b\b\b\b\b\b\b\b\b\b\b\b\b\b\b\b\b\b\b\b\b\b\b\b\b\b\b\b\b\b\b\b\b\b\b\b\b\b\b\b\b\b\b\b\b\b\b\b\b\b\b\b\b\b\b\b\b\b\b\b\b\b\b\b\b\b\b\b\r1563/1563 [==============================] - 60s 38ms/step - loss: 1.1785 - accuracy: 0.5876 - val_loss: 1.1821 - val_accuracy: 0.5857 - lr: 0.0010\n",
            "Learning rate:  0.001\n",
            "Epoch 3/25\n",
            "1563/1563 [==============================] - ETA: 0s - loss: 1.1808 - accuracy: 0.5889"
          ]
        },
        {
          "output_type": "stream",
          "name": "stderr",
          "text": [
            "WARNING:tensorflow:Can save best model only with val_acc available, skipping.\n"
          ]
        },
        {
          "output_type": "stream",
          "name": "stdout",
          "text": [
            "\b\b\b\b\b\b\b\b\b\b\b\b\b\b\b\b\b\b\b\b\b\b\b\b\b\b\b\b\b\b\b\b\b\b\b\b\b\b\b\b\b\b\b\b\b\b\b\b\b\b\b\b\b\b\b\b\b\b\b\b\b\b\b\b\b\b\b\b\b\b\b\b\b\b\b\b\b\b\b\b\b\b\b\b\b\b\r1563/1563 [==============================] - 60s 38ms/step - loss: 1.1808 - accuracy: 0.5889 - val_loss: 1.1635 - val_accuracy: 0.5935 - lr: 0.0010\n",
            "Learning rate:  0.001\n",
            "Epoch 4/25\n",
            "1562/1563 [============================>.] - ETA: 0s - loss: 1.1789 - accuracy: 0.5915"
          ]
        },
        {
          "output_type": "stream",
          "name": "stderr",
          "text": [
            "WARNING:tensorflow:Can save best model only with val_acc available, skipping.\n"
          ]
        },
        {
          "output_type": "stream",
          "name": "stdout",
          "text": [
            "\b\b\b\b\b\b\b\b\b\b\b\b\b\b\b\b\b\b\b\b\b\b\b\b\b\b\b\b\b\b\b\b\b\b\b\b\b\b\b\b\b\b\b\b\b\b\b\b\b\b\b\b\b\b\b\b\b\b\b\b\b\b\b\b\b\b\b\b\b\b\b\b\b\b\b\b\b\b\b\b\b\b\b\b\b\b\r1563/1563 [==============================] - 59s 38ms/step - loss: 1.1787 - accuracy: 0.5915 - val_loss: 1.1911 - val_accuracy: 0.5818 - lr: 0.0010\n",
            "Learning rate:  0.001\n",
            "Epoch 5/25\n",
            "1561/1563 [============================>.] - ETA: 0s - loss: 1.1708 - accuracy: 0.5924"
          ]
        },
        {
          "output_type": "stream",
          "name": "stderr",
          "text": [
            "WARNING:tensorflow:Can save best model only with val_acc available, skipping.\n"
          ]
        },
        {
          "output_type": "stream",
          "name": "stdout",
          "text": [
            "\b\b\b\b\b\b\b\b\b\b\b\b\b\b\b\b\b\b\b\b\b\b\b\b\b\b\b\b\b\b\b\b\b\b\b\b\b\b\b\b\b\b\b\b\b\b\b\b\b\b\b\b\b\b\b\b\b\b\b\b\b\b\b\b\b\b\b\b\b\b\b\b\b\b\b\b\b\b\b\b\b\b\b\b\b\b\r1563/1563 [==============================] - 53s 34ms/step - loss: 1.1708 - accuracy: 0.5924 - val_loss: 1.1834 - val_accuracy: 0.5873 - lr: 0.0010\n",
            "Learning rate:  0.001\n",
            "Epoch 6/25\n",
            "1562/1563 [============================>.] - ETA: 0s - loss: 1.1925 - accuracy: 0.5868"
          ]
        },
        {
          "output_type": "stream",
          "name": "stderr",
          "text": [
            "WARNING:tensorflow:Can save best model only with val_acc available, skipping.\n"
          ]
        },
        {
          "output_type": "stream",
          "name": "stdout",
          "text": [
            "\b\b\b\b\b\b\b\b\b\b\b\b\b\b\b\b\b\b\b\b\b\b\b\b\b\b\b\b\b\b\b\b\b\b\b\b\b\b\b\b\b\b\b\b\b\b\b\b\b\b\b\b\b\b\b\b\b\b\b\b\b\b\b\b\b\b\b\b\b\b\b\b\b\b\b\b\b\b\b\b\b\b\b\b\b\b\r1563/1563 [==============================] - 59s 37ms/step - loss: 1.1925 - accuracy: 0.5868 - val_loss: 1.1685 - val_accuracy: 0.5847 - lr: 0.0010\n",
            "Learning rate:  0.001\n",
            "Epoch 7/25\n",
            "1562/1563 [============================>.] - ETA: 0s - loss: 1.1917 - accuracy: 0.5859"
          ]
        },
        {
          "output_type": "stream",
          "name": "stderr",
          "text": [
            "WARNING:tensorflow:Can save best model only with val_acc available, skipping.\n"
          ]
        },
        {
          "output_type": "stream",
          "name": "stdout",
          "text": [
            "\b\b\b\b\b\b\b\b\b\b\b\b\b\b\b\b\b\b\b\b\b\b\b\b\b\b\b\b\b\b\b\b\b\b\b\b\b\b\b\b\b\b\b\b\b\b\b\b\b\b\b\b\b\b\b\b\b\b\b\b\b\b\b\b\b\b\b\b\b\b\b\b\b\b\b\b\b\b\b\b\b\b\b\b\b\b\r1563/1563 [==============================] - 52s 33ms/step - loss: 1.1917 - accuracy: 0.5859 - val_loss: 1.1627 - val_accuracy: 0.5947 - lr: 0.0010\n",
            "Learning rate:  0.001\n",
            "Epoch 8/25\n",
            "1561/1563 [============================>.] - ETA: 0s - loss: 1.1604 - accuracy: 0.5974"
          ]
        },
        {
          "output_type": "stream",
          "name": "stderr",
          "text": [
            "WARNING:tensorflow:Can save best model only with val_acc available, skipping.\n"
          ]
        },
        {
          "output_type": "stream",
          "name": "stdout",
          "text": [
            "1563/1563 [==============================] - 59s 38ms/step - loss: 1.1606 - accuracy: 0.5973 - val_loss: 1.1988 - val_accuracy: 0.5790 - lr: 0.0010\n",
            "313/313 [==============================] - 2s 6ms/step - loss: 69.7835 - accuracy: 0.1687\n",
            "Test loss: 69.78351593017578\n",
            "Test accuracy: 0.16869999468326569\n"
          ]
        }
      ],
      "source": [
        "if data_augmentation:\n",
        "\tprint('Using real-time data augmentation.')\n",
        "\t# This will do preprocessing and realtime data augmentation:\n",
        "\tdatagen = ImageDataGenerator(\n",
        "        featurewise_center=True,  # set input mean to 0 over the dataset / 불리언. 데이터셋에 대해 인풋의 평균이 0이 되도록 함.\n",
        "        samplewise_center=False,  # set each sample mean to 0 / 불리언. 각 샘플의 평균이 0이 되도록 함.\n",
        "        featurewise_std_normalization=True,  # divide inputs by std of the dataset / 불리언.인풋의 각 특성 내에서 데이터셋의 표준편차로 나눔.\n",
        "        samplewise_std_normalization=False,  # divide each input by its std / 불리언. 각 인풋을 표준편차로 나눔.\n",
        "        zca_whitening=False,  # apply ZCA whitening / zero-phase Componet Analysis / 불리언, 영위상 성분분석 백색화를 적용할지 여부. 참고 : https://withkairos.wordpress.com/2015/06/13/ufldl-tutorial-8-whitening/ㄴ\n",
        "        zca_epsilon=1e-06,  # epsilon for ZCA whitening / 영위상 성분분석 백색화의 엡실론의 값 / 디폴트 값 : 1e-6\n",
        "        rotation_range=20,  # randomly rotate images in the range (degrees, 0 to 180) / 랜덤하게 사진을 회전시킬 각도.\n",
        "        # randomly shift images horizontally (fraction of total width)\n",
        "        width_shift_range=0.2, #부동소수점. 1D형태의 유사배열 혹은 정수. / # 수평으로 랜덤하게 평행이동 시킬 범위\n",
        "        # randomly shift images vertically (fraction of total height)\n",
        "        height_shift_range=0.2, # 수직으로 랜덤하게 평행이동 시킬 범위\n",
        "        shear_range=0.,  # set range for random shear / 랜덤하게 전단 변환(shearing transformation)을 적용할 각도 범위\n",
        "        zoom_range=0.,  # set range for random zoom / 무작위 줌 범위\n",
        "        channel_shift_range=0.,  # set range for random channel shifts / 부동소수점. 무작위 채널의 이동의 범위.\n",
        "        # set mode for filling points outside the input boundaries\n",
        "        fill_mode='nearest', #회전이나 가로/세로 이동으로 인해 새롭게 생성해야 할 픽셀을 채울 전략.\n",
        "        cval=0.,  # value used for fill_mode = \"constant\" / 부동소수점 혹은 정수/ fill_mode = 'constant'인 경우 경계 밖 공간에 사용하는 값.\n",
        "        horizontal_flip=True,  # randomly flip images / #랜덤하게 이미지를 수평으로 뒤집는다. 수평 대칭을 가정할 수 잇을 때 사용(ex, 풍경/인물)\n",
        "        vertical_flip=False,  # randomly flip images / 랜덤하게 이미지를 수직으로 뒤집는다.\n",
        "        # set rescaling factor (applied before any other transformation)\n",
        "        rescale=None, #크기 재조절 인수, 디폴트 값은 None / None 혹은 0인 경우 크기 재조절이 적용되지 않고, 그 외의 경우(다른 변형을 전부 적용한 후에) 데이터를 주어진 값으로 곱합.\n",
        "        # set function that will be applied on each input\n",
        "        preprocessing_function=None, #각 인풋에 적용되는 함수. 이미지가 크게 재조절되고 증강된 후에 함수가 작동.\n",
        "        # image data format, either \"channels_first\" or \"channels_last\"\n",
        "        data_format=None, # 이미지 데이터 형식, 'channel_first(B,C,W,H)'혹은 'channle_last'(B,W,H,C)가 사용가능.\n",
        "        # fraction of images reserved for validation (strictly between 0 and 1)\n",
        "        validation_split=0.0) #부동소수점 / 검증의 용도로 남겨둘 이미지의 비율.\n",
        "\n",
        "    # Compute quantities required for feature-wise normalization\n",
        "    # (std, mean, and principal components if ZCA whitening is applied).\n",
        "\n",
        "\n",
        "if not flow_from_dir:\n",
        "\tif not data_augmentation:\n",
        "\t\tprint('Not using data augmentation.')\n",
        "\t\thistory = model.fit(X_train, y_train,\n",
        "          batch_size=batch_size,\n",
        "          epochs=epochs,\n",
        "          validation_data=(X_test, y_test),\n",
        "          shuffle=True,\n",
        "          callbacks=callbacks)\n",
        "\telse:\n",
        "\t\tprint(\"model using data from downloaded dataset in memoory\")\n",
        "\t\tdatagen.fit(X_train)\n",
        "\t\t# Fit the model on the batches generated by .datagenflow().\n",
        "\t\thistory = model.fit_generator(datagen.flow(X_train, y_train,\n",
        "                                 batch_size=batch_size),\n",
        "                                 epochs=epochs,\n",
        "                                 validation_data=datagen.flow((X_test, y_test),batch_size=batch_size),\n",
        "                                 workers=4,\n",
        "                                 callbacks=callbacks)\n",
        "\n",
        "\tscores = model.evaluate(X_test, y_test, verbose=1)\n",
        "\n",
        "else:\n",
        "\t# generator for reading train data from folder\n",
        "\n",
        "\tprint('Model fit using flow from directory')\n",
        "\n",
        "\n",
        "\ttrain_generator = datagen.flow_from_directory(\n",
        "      train_dir,\n",
        "      target_size = (224, 224),\n",
        "      color_mode = 'rgb',\n",
        "      batch_size = batch_size,\n",
        "      class_mode = 'categorical',\n",
        "      shuffle=False,\n",
        "      seed=42\n",
        "      )\n",
        "\t#\n",
        "\t# generator for reading validation data from folder\n",
        "\n",
        "\tvalidation_generator = datagen.flow_from_directory(\n",
        "      validate_dir,\n",
        "      target_size = (224, 224),\n",
        "      color_mode = 'rgb',\n",
        "      batch_size = batch_size,\n",
        "      class_mode = 'categorical',\n",
        "      shuffle=False,\n",
        "      seed=42)\n",
        "\n",
        "\tSTEP_SIZE_TRAIN=train_generator.n//train_generator.batch_size\n",
        "\tSTEP_SIZE_VALID=validation_generator.n//validation_generator.batch_size\n",
        "\n",
        "\thistory = model.fit_generator(generator=train_generator,\n",
        "                steps_per_epoch=STEP_SIZE_TRAIN,\n",
        "                validation_data=validation_generator,\n",
        "                validation_steps=STEP_SIZE_VALID,\n",
        "                epochs=10,\n",
        "                callbacks=callbacks\n",
        "                )\n",
        "\n",
        "\tscores = model.evaluate_generator(generator=validation_generator,\n",
        "                           steps=STEP_SIZE_VALID, verbose=1)\n",
        "\n",
        "\t#Predict the output\n",
        "\t''' Use when to Predict the output\n",
        "\tSTEP_SIZE_TEST=test_generator.n//test_generator.batch_size\n",
        "\ttest_generator.reset()\n",
        "\tpred=model.predict_generator(test_generator,\n",
        "                               steps=STEP_SIZE_TEST,\n",
        "                               verbose=1)\n",
        "\n",
        "\t'''\n",
        "# Save model and weights\n",
        "\n",
        "\n",
        "\n",
        "# Score trained model.\n",
        "\n",
        "print('Test loss:', scores[0])\n",
        "print('Test accuracy:', scores[1])"
      ]
    },
    {
      "cell_type": "code",
      "execution_count": null,
      "metadata": {
        "colab": {
          "base_uri": "https://localhost:8080/",
          "height": 946
        },
        "id": "bsj5J16YLWrx",
        "outputId": "948cc42a-b5f5-4817-c6bf-fc8f631cc0e4"
      },
      "outputs": [
        {
          "name": "stdout",
          "output_type": "stream",
          "text": [
            "dict_keys(['loss', 'accuracy', 'val_loss', 'val_accuracy', 'lr'])\n"
          ]
        },
        {
          "data": {
            "image/png": "[encoded data removed]",
            "text/plain": [
              "<Figure size 640x480 with 1 Axes>"
            ]
          },
          "metadata": {},
          "output_type": "display_data"
        },
        {
          "data": {
            "image/png": "[encoded data removed]",
            "text/plain": [
              "<Figure size 640x480 with 1 Axes>"
            ]
          },
          "metadata": {},
          "output_type": "display_data"
        }
      ],
      "source": [
        "|# list all data in history\n",
        "print(history.history.keys())\n",
        "# summarize history for accuracy\n",
        "plt.plot(history.history['accuracy'])\n",
        "plt.plot(history.history['val_accuracy'])\n",
        "plt.title('model accuracy')\n",
        "plt.ylabel('accuracy')\n",
        "plt.xlabel('epoch')\n",
        "plt.legend(['train', 'test'], loc='upper left')\n",
        "plt.show()\n",
        "# summarize history for loss\n",
        "plt.plot(history.history['loss'])\n",
        "plt.plot(history.history['val_loss'])\n",
        "plt.title('model loss')\n",
        "plt.ylabel('loss')\n",
        "plt.xlabel('epoch')\n",
        "plt.legend(['train', 'test'], loc='upper left')\n",
        "plt.show()"
      ]
    },
    {
      "cell_type": "code",
      "execution_count": null,
      "metadata": {
        "id": "d6YPfE24LY-w"
      },
      "outputs": [],
      "source": []
    }
  ],
  "metadata": {
    "accelerator": "GPU",
    "colab": {
      "provenance": [],
      "authorship_tag": "ABX9TyMaio+SUshIjFCB1kf7rkzf",
      "include_colab_link": true
    },
    "gpuClass": "standard",
    "kernelspec": {
      "display_name": "Python 3",
      "name": "python3"
    },
    "language_info": {
      "name": "python"
    }
  },
  "nbformat": 4,
  "nbformat_minor": 0
}